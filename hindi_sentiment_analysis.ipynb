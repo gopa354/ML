{
 "cells": [
  {
   "cell_type": "code",
   "execution_count": 1,
   "metadata": {},
   "outputs": [
    {
     "name": "stdout",
     "output_type": "stream",
     "text": [
      "Loaded the word list!\n",
      "Loaded the word vectors!\n"
     ]
    },
    {
     "data": {
      "text/plain": [
       "(116526, 100)"
      ]
     },
     "execution_count": 1,
     "metadata": {},
     "output_type": "execute_result"
    }
   ],
   "source": [
    "import numpy as np\n",
    "import tensorflow as tf\n",
    "wordsList = np.load('/home/gopal/Pictures/Hindi_sentiment_analysis/hindi_wordlist.npy')\n",
    "print('Loaded the word list!')\n",
    "wordsList = wordsList.tolist() #Originally loaded as numpy array\n",
    "#wordsList = [word.encode('UTF-8') for word in wordsList] #Encode words as UTF-8\n",
    "wordVectors = np.load('/home/gopal/Pictures/Hindi_sentiment_analysis/hindi_wordvectors.npy')\n",
    "print ('Loaded the word vectors!')\n",
    "wordVectors.shape"
   ]
  },
  {
   "cell_type": "code",
   "execution_count": 2,
   "metadata": {},
   "outputs": [
    {
     "data": {
      "text/plain": [
       "25"
      ]
     },
     "execution_count": 2,
     "metadata": {},
     "output_type": "execute_result"
    }
   ],
   "source": [
    "\n",
    "wordsList.index('कोसी')"
   ]
  },
  {
   "cell_type": "code",
   "execution_count": 3,
   "metadata": {},
   "outputs": [
    {
     "name": "stdout",
     "output_type": "stream",
     "text": [
      "2290\n",
      "712\n",
      "2226\n"
     ]
    }
   ],
   "source": [
    "\n",
    "from os import listdir\n",
    "from os.path import isfile, join\n",
    "pos = []\n",
    "neg = []\n",
    "neu = []\n",
    "with open(\"/home/gopal/Pictures/Hindi_sentiment_analysis/pos_text.txt\", \"r\") as positive:\n",
    "    for line in positive:\n",
    "        pos.append(line.strip('\\n'))\n",
    "        \n",
    "with open(\"/home/gopal/Pictures/Hindi_sentiment_analysis/neg_txt.txt\", \"r\") as negative:\n",
    "    for line in negative:\n",
    "        neg.append(line.strip('\\n'))\n",
    "        \n",
    "with open(\"/home/gopal/Pictures/Hindi_sentiment_analysis/neu_text.txt\", \"r\") as neutral:\n",
    "    for line in neutral:\n",
    "        neu.append(line.strip('\\n'))\n",
    "        \n",
    "print(len(pos))\n",
    "print(len(neg))\n",
    "print(len(neu))\n",
    "#print(pos)"
   ]
  },
  {
   "cell_type": "code",
   "execution_count": 4,
   "metadata": {},
   "outputs": [
    {
     "name": "stdout",
     "output_type": "stream",
     "text": [
      "Positive files finished\n",
      "Negative files finished\n",
      "Negative files finished\n"
     ]
    },
    {
     "data": {
      "text/plain": [
       "78"
      ]
     },
     "execution_count": 4,
     "metadata": {},
     "output_type": "execute_result"
    }
   ],
   "source": [
    "numWords = []\n",
    "for pf in pos:\n",
    "#with open(pos, \"r\", encoding='utf-8') as f:\n",
    "    #line=f.readline()\n",
    "    counter = len(pf.split())\n",
    "    numWords.append(counter)       \n",
    "print('Positive files finished')\n",
    "\n",
    "for nf in neg:\n",
    "#with open(nf, \"r\", encoding='utf-8') as f:\n",
    "    #line=f.read()\n",
    "    counter = len(nf.split())\n",
    "    numWords.append(counter)  \n",
    "print('Negative files finished')\n",
    "\n",
    "\n",
    "for neuf in neu:\n",
    "#with open(nf, \"r\", encoding='utf-8') as f:\n",
    "    #line=f.read()\n",
    "    counter = len(neuf.split())\n",
    "    numWords.append(counter)  \n",
    "print('Negative files finished')\n",
    "\n",
    "numWords[4629]"
   ]
  },
  {
   "cell_type": "code",
   "execution_count": null,
   "metadata": {},
   "outputs": [],
   "source": []
  },
  {
   "cell_type": "code",
   "execution_count": 5,
   "metadata": {},
   "outputs": [
    {
     "name": "stdout",
     "output_type": "stream",
     "text": [
      "numWords :  78 4629\n",
      "The total number of files is 5228\n",
      "The total number of words in the files is 95499\n",
      "The average number of words in the files is 18.2668324407039\n"
     ]
    }
   ],
   "source": [
    "print(\"numWords : \",max(numWords), numWords.index(max(numWords)))\n",
    "\n",
    "numFiles = len(numWords)\n",
    "print('The total number of files is', numFiles)\n",
    "print('The total number of words in the files is', sum(numWords))\n",
    "print('The average number of words in the files is', sum(numWords)/len(numWords))\n"
   ]
  },
  {
   "cell_type": "code",
   "execution_count": 6,
   "metadata": {},
   "outputs": [],
   "source": [
    "maxSeqLength = 100\n",
    "numDimensions = 100 #Dimensions for each word vector"
   ]
  },
  {
   "cell_type": "code",
   "execution_count": 7,
   "metadata": {},
   "outputs": [],
   "source": [
    "# # Removes punctuation, parentheses, question marks, etc., and leaves only alphanumeric characters\n",
    "# import re\n",
    "# strip_special_chars = re.compile(\"[^A-Za-z0-9 ]+\")\n",
    "# https = re.compile(r'^https?:\\/\\/.*[\\r\\n]*')\n",
    "# #r'http\\S+',\n",
    "\n",
    "# def cleanSentences(string):\n",
    "#     string = string.lower().replace(\"<br />\", \" \")\n",
    "#     string = re.sub(r'\\w+:\\/{2}[\\d\\w-]+(\\.[\\d\\w-]+)*(?:(?:\\/[^\\s/]*))*',\"\",string, flags=re.MULTILINE)\n",
    "#     #string = re.sub(r\"[\\'’“”?]\", \"\", string, flags=re.I)\n",
    "#     string = re.sub(r\"[\\“”?]\", \"\", string, flags=re.I)\n",
    "#     string = re.sub(strip_special_chars, \" \", string)\n",
    "#     #string = re.sub(' +', ' ', string)\n",
    "#     return string\n"
   ]
  },
  {
   "cell_type": "code",
   "execution_count": 8,
   "metadata": {},
   "outputs": [
    {
     "name": "stdout",
     "output_type": "stream",
     "text": [
      "(5228, 100)\n",
      "positive file done\n",
      "negative file done\n",
      "neutral file done\n"
     ]
    }
   ],
   "source": [
    "ids = np.zeros((numFiles, maxSeqLength), dtype='int32')\n",
    "print(ids.shape)\n",
    "fileCounter = 0\n",
    "for pf in pos:\n",
    "    indexCounter = 0\n",
    "   # cleanedLine = cleanSentences(pf)\n",
    "    split = pf.split()\n",
    "    for word in split:\n",
    "        try:\n",
    "            #print(fileCounter,indexCounter)\n",
    "            ids[fileCounter][indexCounter] = wordsList.index(word)\n",
    "        except ValueError:\n",
    "            ids[fileCounter][indexCounter] = 116525 #Vector for unkown words\n",
    "        indexCounter = indexCounter + 1\n",
    "        if indexCounter >= maxSeqLength:\n",
    "            break\n",
    "    fileCounter = fileCounter + 1\n",
    "print(\"positive file done\")\n",
    "\n",
    "for nf in neg:\n",
    "    indexCounter = 0\n",
    "    #cleanedLine = cleanSentences(nf)\n",
    "    split = nf.split()\n",
    "    for word in split:\n",
    "        try:\n",
    "            #print(indexCounter)\n",
    "            ids[fileCounter][indexCounter] = wordsList.index(word)\n",
    "        except ValueError:\n",
    "            ids[fileCounter][indexCounter] = 116525 #Vector for unkown words\n",
    "        indexCounter = indexCounter + 1\n",
    "        if indexCounter >= maxSeqLength:\n",
    "            break\n",
    "    fileCounter = fileCounter + 1\n",
    "print(\"negative file done\")\n",
    "\n",
    "        \n",
    "for neuf in neu:\n",
    "    indexCounter = 0\n",
    "    #cleanedLine = cleanSentences(neuf)\n",
    "    split = neuf.split()\n",
    "    for word in split:\n",
    "        try:\n",
    "            #print(fileCounter,indexCounter)\n",
    "            ids[fileCounter][indexCounter] = wordsList.index(word)\n",
    "        except ValueError:\n",
    "            ids[fileCounter][indexCounter] = 116525 #Vector for unkown words\n",
    "        indexCounter = indexCounter + 1\n",
    "        if indexCounter >= maxSeqLength:\n",
    "            break\n",
    "    fileCounter = fileCounter + 1\n",
    "print(\"neutral file done\")\n",
    "\n",
    "#Pass into embedding function and see if it evaluates. \n",
    "\n"
   ]
  },
  {
   "cell_type": "code",
   "execution_count": 9,
   "metadata": {},
   "outputs": [
    {
     "name": "stdout",
     "output_type": "stream",
     "text": [
      "0\n"
     ]
    }
   ],
   "source": [
    "print(wordsList.index('लेने'))"
   ]
  },
  {
   "cell_type": "code",
   "execution_count": 10,
   "metadata": {},
   "outputs": [
    {
     "data": {
      "text/plain": [
       "array([  7142,   6167,     27,    437, 116525, 116525,      1,    137,\n",
       "       116525,     52,   3833,   5393, 116525,     27, 116525,  29030,\n",
       "         9322,    693, 116525,    313, 116525,      0,      0,      0,\n",
       "            0,      0,      0,      0,      0,      0,      0,      0,\n",
       "            0,      0,      0,      0,      0,      0,      0,      0,\n",
       "            0,      0,      0,      0,      0,      0,      0,      0,\n",
       "            0,      0,      0,      0,      0,      0,      0,      0,\n",
       "            0,      0,      0,      0,      0,      0,      0,      0,\n",
       "            0,      0,      0,      0,      0,      0,      0,      0,\n",
       "            0,      0,      0,      0,      0,      0,      0,      0,\n",
       "            0,      0,      0,      0,      0,      0,      0,      0,\n",
       "            0,      0,      0,      0,      0,      0,      0,      0,\n",
       "            0,      0,      0,      0], dtype=int32)"
      ]
     },
     "execution_count": 10,
     "metadata": {},
     "output_type": "execute_result"
    }
   ],
   "source": [
    "np.save('/home/gopal/Pictures/Hindi_sentiment_analysis/idsMatrix.npy', ids)\n",
    "ids = np.load('/home/gopal/Pictures/Hindi_sentiment_analysis/idsMatrix.npy')\n",
    "ids[134]"
   ]
  },
  {
   "cell_type": "code",
   "execution_count": 11,
   "metadata": {},
   "outputs": [
    {
     "data": {
      "text/plain": [
       "'def getTestBatch():\\n    labels = []\\n    arr = np.zeros([batchSize, maxSeqLength])\\n    for i in range(batchSize):\\n        num = randint(1,95074)\\n        if (num <= 36101): #36101\\n            labels.append([1,0,0])\\n        elif (num > 36101 and num <= 64355): #64355\\n            labels.append([0,1,0])\\n        elif (num > 64355 and num <= 95074):\\n            labels.append([0,0,1])\\n        arr[i] = ids[num-1:num]\\n    return arr, labels'"
      ]
     },
     "execution_count": 11,
     "metadata": {},
     "output_type": "execute_result"
    }
   ],
   "source": [
    "from random import randint\n",
    "\n",
    "def getTrainBatch():\n",
    "    labels = []\n",
    "    arr = np.zeros([batchSize, maxSeqLength])\n",
    "    for i in range(batchSize):\n",
    "        num = randint(1,5228)#36562,28867,31165\n",
    "        #print(num)\n",
    "        if (num < 2290): #36101\n",
    "            labels.append([1,0,0])\n",
    "        elif (num >= 2290 and num <= 3002): #64355\n",
    "            labels.append([0,1,0])\n",
    "        #elif (num > 65429 and num <= 96594): #95074\n",
    "        else:\n",
    "            labels.append([0,0,1])\n",
    "        arr[i] = ids[num-1:num]\n",
    "    return arr, labels\n",
    "\n",
    "\"\"\"def getTestBatch():\n",
    "    labels = []\n",
    "    arr = np.zeros([batchSize, maxSeqLength])\n",
    "    for i in range(batchSize):\n",
    "        num = randint(1,95074)\n",
    "        if (num <= 36101): #36101\n",
    "            labels.append([1,0,0])\n",
    "        elif (num > 36101 and num <= 64355): #64355\n",
    "            labels.append([0,1,0])\n",
    "        elif (num > 64355 and num <= 95074):\n",
    "            labels.append([0,0,1])\n",
    "        arr[i] = ids[num-1:num]\n",
    "    return arr, labels\"\"\"\n"
   ]
  },
  {
   "cell_type": "code",
   "execution_count": 12,
   "metadata": {},
   "outputs": [
    {
     "name": "stdout",
     "output_type": "stream",
     "text": [
      "WARNING:tensorflow:From /home/gopal/anaconda3/lib/python3.7/site-packages/tensorflow/python/framework/op_def_library.py:263: colocate_with (from tensorflow.python.framework.ops) is deprecated and will be removed in a future version.\n",
      "Instructions for updating:\n",
      "Colocations handled automatically by placer.\n",
      "\n",
      "WARNING: The TensorFlow contrib module will not be included in TensorFlow 2.0.\n",
      "For more information, please see:\n",
      "  * https://github.com/tensorflow/community/blob/master/rfcs/20180907-contrib-sunset.md\n",
      "  * https://github.com/tensorflow/addons\n",
      "If you depend on functionality not listed there, please file an issue.\n",
      "\n",
      "WARNING:tensorflow:From <ipython-input-12-8ebe65d259b3>:15: BasicLSTMCell.__init__ (from tensorflow.python.ops.rnn_cell_impl) is deprecated and will be removed in a future version.\n",
      "Instructions for updating:\n",
      "This class is equivalent as tf.keras.layers.LSTMCell, and will be replaced by that in Tensorflow 2.0.\n",
      "WARNING:tensorflow:From <ipython-input-12-8ebe65d259b3>:17: dynamic_rnn (from tensorflow.python.ops.rnn) is deprecated and will be removed in a future version.\n",
      "Instructions for updating:\n",
      "Please use `keras.layers.RNN(cell)`, which is equivalent to this API\n",
      "WARNING:tensorflow:From /home/gopal/anaconda3/lib/python3.7/site-packages/tensorflow/python/ops/rnn_cell_impl.py:1259: calling dropout (from tensorflow.python.ops.nn_ops) with keep_prob is deprecated and will be removed in a future version.\n",
      "Instructions for updating:\n",
      "Please use `rate` instead of `keep_prob`. Rate should be set to `rate = 1 - keep_prob`.\n",
      "WARNING:tensorflow:From <ipython-input-12-8ebe65d259b3>:33: softmax_cross_entropy_with_logits (from tensorflow.python.ops.nn_ops) is deprecated and will be removed in a future version.\n",
      "Instructions for updating:\n",
      "\n",
      "Future major versions of TensorFlow will allow gradients to flow\n",
      "into the labels input on backprop by default.\n",
      "\n",
      "See `tf.nn.softmax_cross_entropy_with_logits_v2`.\n",
      "\n"
     ]
    }
   ],
   "source": [
    "batchSize = 512 #(500,256 gives good acc)\n",
    "lstmUnits = 256 #64(32-batch,note worked),size\n",
    "numClasses = 3\n",
    "iterations =100000\n",
    "\n",
    "import tensorflow as tf\n",
    "tf.reset_default_graph()\n",
    "\n",
    "labels = tf.placeholder(tf.float32, [batchSize, numClasses])\n",
    "input_data = tf.placeholder(tf.int32, [batchSize, maxSeqLength])\n",
    "\n",
    "data = tf.Variable(tf.zeros([batchSize, maxSeqLength, numDimensions]),dtype=tf.float32)\n",
    "data = tf.nn.embedding_lookup(wordVectors,input_data)\n",
    "\n",
    "lstmCell = tf.contrib.rnn.BasicLSTMCell(lstmUnits)\n",
    "lstmCell = tf.contrib.rnn.DropoutWrapper(cell=lstmCell, output_keep_prob=0.75)\n",
    "value, _ = tf.nn.dynamic_rnn(lstmCell, data, dtype=tf.float32)\n",
    "\n",
    "weight = tf.Variable(tf.truncated_normal([lstmUnits, numClasses]))\n",
    "bias = tf.Variable(tf.constant(0.1, shape=[numClasses]))\n",
    "value = tf.transpose(value, [1, 0, 2])\n",
    "last = tf.gather(value, int(value.get_shape()[0]) - 1)\n",
    "#prediction = (tf.matmul(last, weight) + bias)\n",
    "prediction = tf.nn.softmax(tf.matmul(last, weight) + bias)\n",
    "\n",
    "correctPred = tf.equal(tf.argmax(prediction,1), tf.argmax(labels,1))\n",
    "accuracy = tf.reduce_mean(tf.cast(correctPred, tf.float32))\n",
    "\n",
    "'''loss = tf.reduce_mean(tf.nn.softmax_cross_entropy_with_logits(logits=prediction, labels=labels))\n",
    "optimizer = tf.train.AdamOptimizer().minimize(loss)'''\n",
    "\n",
    "\n",
    "loss = tf.reduce_mean(tf.nn.softmax_cross_entropy_with_logits(logits=prediction, labels=labels))\n",
    "beta = 0.01\n",
    "\n",
    "# Loss function using L2 Regularization\n",
    "regularizer = tf.nn.l2_loss(weight)\n",
    "loss = tf.reduce_mean(loss + beta * regularizer)\n",
    "\n",
    "\n"
   ]
  },
  {
   "cell_type": "code",
   "execution_count": 13,
   "metadata": {},
   "outputs": [
    {
     "name": "stdout",
     "output_type": "stream",
     "text": [
      "WARNING:tensorflow:From /home/gopal/anaconda3/lib/python3.7/site-packages/tensorflow/python/ops/array_grad.py:425: to_int32 (from tensorflow.python.ops.math_ops) is deprecated and will be removed in a future version.\n",
      "Instructions for updating:\n",
      "Use tf.cast instead.\n"
     ]
    }
   ],
   "source": [
    "optimizer = tf.train.AdamOptimizer().minimize(loss)\n"
   ]
  },
  {
   "cell_type": "code",
   "execution_count": null,
   "metadata": {},
   "outputs": [
    {
     "name": "stdout",
     "output_type": "stream",
     "text": [
      "0\n",
      "1\n",
      "2\n",
      "3\n",
      "4\n",
      "5\n",
      "6\n",
      "7\n",
      "8\n",
      "9\n",
      "10\n",
      "11\n",
      "12\n",
      "13\n",
      "14\n",
      "15\n",
      "16\n",
      "17\n",
      "18\n",
      "19\n",
      "20\n",
      "21\n",
      "22\n",
      "23\n",
      "24\n",
      "25\n",
      "26\n",
      "27\n",
      "28\n",
      "29\n",
      "30\n",
      "31\n",
      "32\n",
      "33\n",
      "34\n",
      "35\n",
      "36\n",
      "37\n",
      "38\n",
      "39\n",
      "40\n",
      "41\n",
      "42\n",
      "43\n",
      "44\n",
      "45\n",
      "46\n",
      "47\n",
      "48\n",
      "49\n",
      "50\n",
      "51\n",
      "52\n",
      "53\n",
      "54\n",
      "55\n",
      "56\n",
      "57\n",
      "58\n",
      "59\n",
      "60\n",
      "61\n",
      "62\n",
      "63\n",
      "64\n",
      "65\n",
      "66\n",
      "67\n",
      "68\n",
      "69\n",
      "70\n",
      "71\n",
      "72\n",
      "73\n",
      "74\n",
      "75\n",
      "76\n",
      "77\n",
      "78\n",
      "79\n",
      "80\n",
      "81\n",
      "82\n",
      "83\n",
      "84\n",
      "85\n",
      "86\n",
      "87\n",
      "88\n",
      "89\n",
      "90\n",
      "91\n",
      "92\n",
      "93\n",
      "94\n",
      "95\n",
      "96\n",
      "97\n",
      "98\n",
      "99\n",
      "100\n",
      "101\n",
      "102\n",
      "103\n",
      "104\n",
      "105\n",
      "106\n",
      "107\n",
      "108\n",
      "109\n",
      "110\n",
      "111\n",
      "112\n",
      "113\n",
      "114\n",
      "115\n",
      "116\n",
      "117\n",
      "118\n",
      "119\n",
      "120\n",
      "121\n",
      "122\n",
      "123\n",
      "124\n",
      "125\n",
      "126\n",
      "127\n",
      "128\n",
      "129\n",
      "130\n",
      "131\n",
      "132\n",
      "133\n",
      "134\n",
      "135\n",
      "136\n",
      "137\n",
      "138\n",
      "139\n",
      "140\n",
      "141\n",
      "142\n",
      "143\n",
      "144\n",
      "145\n",
      "146\n",
      "147\n",
      "148\n",
      "149\n",
      "150\n",
      "151\n",
      "152\n",
      "153\n",
      "154\n",
      "155\n",
      "156\n",
      "157\n",
      "158\n",
      "159\n",
      "160\n",
      "161\n",
      "162\n",
      "163\n",
      "164\n",
      "165\n",
      "166\n",
      "167\n",
      "168\n",
      "169\n",
      "170\n"
     ]
    }
   ],
   "source": [
    "import datetime\n",
    "with tf.Session() as sess:\n",
    "    tf.summary.scalar('Loss', loss)\n",
    "    tf.summary.scalar('Accuracy', accuracy)\n",
    "    merged = tf.summary.merge_all()\n",
    "    logdir = \"/home/gopal/Pictures/Hindi_sentiment_analysis/tensorboard/\" + datetime.datetime.now().strftime(\"%Y%m%d-%H%M%S\") + \"/\"\n",
    "    writer = tf.summary.FileWriter(logdir, sess.graph)\n",
    "\n",
    "#it gives us the details \n",
    "config = tf.ConfigProto()\n",
    "config.gpu_options.allow_growth=True\n",
    "config.log_device_placement=True\n",
    "#sess = tf.Session(config=tf.ConfigProto(log_device_placement=True))\n",
    "sess = tf.Session(config=config)\n",
    "\n",
    "#sess = tf.InteractiveSession()\n",
    "\n",
    "saver = tf.train.Saver()\n",
    "\n",
    "sess.run(tf.global_variables_initializer())\n",
    "\n",
    "\n",
    "for i in range(iterations):\n",
    "    #Next Batch of datasets\n",
    "    print(i)\n",
    "    nextBatch, nextBatchLabels = getTrainBatch();\n",
    "    sess.run(optimizer, {input_data: nextBatch, labels: nextBatchLabels})\n",
    "   \n",
    "    #Write summary to Tensorboard\n",
    "    if (i % 50 == 0):\n",
    "        summary = sess.run(merged, {input_data: nextBatch, labels: nextBatchLabels})\n",
    "        writer.add_summary(summary, i)\n",
    "        \n",
    "    #Save the network every 10,000 training iterations\n",
    "    if (i % 10000 == 0 and i != 0):\n",
    "        save_path = saver.save(sess, \"/home/gopal/Pictures/Hindi_sentiment_analysis/hindi/hindi.ckpt\", global_step=i)\n",
    "        print(\"saved to %s\" % save_path)\n",
    "writer.close()"
   ]
  },
  {
   "cell_type": "code",
   "execution_count": null,
   "metadata": {},
   "outputs": [],
   "source": []
  }
 ],
 "metadata": {
  "kernelspec": {
   "display_name": "Python 3",
   "language": "python",
   "name": "python3"
  },
  "language_info": {
   "codemirror_mode": {
    "name": "ipython",
    "version": 3
   },
   "file_extension": ".py",
   "mimetype": "text/x-python",
   "name": "python",
   "nbconvert_exporter": "python",
   "pygments_lexer": "ipython3",
   "version": "3.7.3"
  }
 },
 "nbformat": 4,
 "nbformat_minor": 2
}
